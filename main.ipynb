{
 "cells": [
  {
   "cell_type": "code",
   "execution_count": 1,
   "metadata": {},
   "outputs": [
    {
     "ename": "ModuleNotFoundError",
     "evalue": "No module named 'fastapi'",
     "output_type": "error",
     "traceback": [
      "\u001b[1;31m---------------------------------------------------------------------------\u001b[0m",
      "\u001b[1;31mModuleNotFoundError\u001b[0m                       Traceback (most recent call last)",
      "Cell \u001b[1;32mIn[1], line 1\u001b[0m\n\u001b[1;32m----> 1\u001b[0m \u001b[38;5;28;01mfrom\u001b[39;00m \u001b[38;5;21;01mfastapi\u001b[39;00m \u001b[38;5;28;01mimport\u001b[39;00m FastAPI, UploadFile, File, HTTPException\n\u001b[0;32m      2\u001b[0m \u001b[38;5;28;01mfrom\u001b[39;00m \u001b[38;5;21;01mdotenv\u001b[39;00m \u001b[38;5;28;01mimport\u001b[39;00m load_dotenv\n\u001b[0;32m      3\u001b[0m \u001b[38;5;28;01mfrom\u001b[39;00m \u001b[38;5;21;01mpydantic\u001b[39;00m \u001b[38;5;28;01mimport\u001b[39;00m BaseModel\n",
      "\u001b[1;31mModuleNotFoundError\u001b[0m: No module named 'fastapi'"
     ]
    }
   ],
   "source": [
    "from fastapi import FastAPI, UploadFile, File, HTTPException\n",
    "from dotenv import load_dotenv\n",
    "from pydantic import BaseModel\n",
    "import os\n",
    "from langchain_nomic import NomicEmbeddings\n",
    "from langchain_milvus import Milvus\n",
    "from langchain_groq import ChatGroq\n",
    "from upload import upload\n",
    "from update import update\n",
    "from search import search\n",
    "from delete import delete\n",
    "from store import store\n",
    "\n",
    "load_dotenv()\n",
    "\n",
    "app = FastAPI(debug=True)\n",
    "print(\"App Initialized\")\n",
    "\n",
    "# Load API keys\n",
    "NOMIC_API_KEY = os.getenv(\"NOMIC_API_KEY\")\n",
    "MILVUS_API_KEY = os.getenv(\"MILVUS_API_KEY\")\n",
    "GROQ_API_KEY = os.getenv(\"GROQ_API_KEY\")\n",
    "MILVUS_URI = os.getenv(\"MILVUS_URI\")"
   ]
  },
  {
   "cell_type": "code",
   "execution_count": null,
   "metadata": {},
   "outputs": [],
   "source": [
    "# Initialize embeddings\n",
    "embeddings = NomicEmbeddings(model=\"nomic-embed-text-v1\", dimensionality=768, nomic_api_key=NOMIC_API_KEY)\n",
    "print(\"Embeddings Created\")\n",
    "\n",
    "# Initialize vector store\n",
    "index_params = {\n",
    "    \"metric_type\": \"IP\",\n",
    "    \"index_type\": \"HNSW\",\n",
    "    \"params\": {\"M\": 8, \"efConstruction\": 10},\n",
    "}\n",
    " \n",
    "vector_store = Milvus(\n",
    "    collection_name=\"resumes11\",\n",
    "    embedding_function=embeddings,\n",
    "    connection_args={\n",
    "        \"uri\": MILVUS_URI,\n",
    "        \"token\": MILVUS_API_KEY\n",
    "    },\n",
    "    vector_field=\"content_dense\",\n",
    "    consistency_level=\"Strong\",\n",
    "    auto_id=True,\n",
    "    primary_field=\"id\",\n",
    "    index_params=index_params,\n",
    ")\n",
    "print(\"Milvus collection initialized\")\n",
    " \n",
    "# Initialize LLM\n",
    "llm = ChatGroq(model=\"llama3-70b-8192\", temperature=0.3, GROQ_API_KEY = \"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\")\n",
    "print(\"LLM Initialized\")\n"
   ]
  },
  {
   "cell_type": "code",
   "execution_count": null,
   "metadata": {},
   "outputs": [],
   "source": [
    "@app.post(\"/store\")  # Store in MongoDB and VectorDB\n",
    "def calling_store(resume_data: ResumeData):\n",
    "    \"\"\"Accepts JSON format data and stores it.\"\"\"\n",
    "    try:\n",
    "        store(resume_data.json_data)  # Pass JSON data to store function\n",
    "        return {\"message\": \"Successfully stored\"}\n",
    "    except Exception as e:\n",
    "        raise HTTPException(status_code=500, detail=f\"Error storing data: {str(e)}\")\n"
   ]
  }
 ],
 "metadata": {
  "kernelspec": {
   "display_name": "qtrack",
   "language": "python",
   "name": "python3"
  },
  "language_info": {
   "codemirror_mode": {
    "name": "ipython",
    "version": 3
   },
   "file_extension": ".py",
   "mimetype": "text/x-python",
   "name": "python",
   "nbconvert_exporter": "python",
   "pygments_lexer": "ipython3",
   "version": "3.10.16"
  }
 },
 "nbformat": 4,
 "nbformat_minor": 2
}
